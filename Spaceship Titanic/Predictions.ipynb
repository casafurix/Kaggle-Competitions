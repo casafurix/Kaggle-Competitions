{
 "cells": [
  {
   "cell_type": "code",
   "execution_count": 50,
   "id": "a24f71ae",
   "metadata": {},
   "outputs": [],
   "source": [
    "import pandas as pd\n",
    "import seaborn as sns\n",
    "import numpy as np\n",
    "import matplotlib.pyplot as plt\n",
    "from sklearn.preprocessing import LabelEncoder"
   ]
  },
  {
   "cell_type": "code",
   "execution_count": 51,
   "id": "ab9858d2",
   "metadata": {},
   "outputs": [],
   "source": [
    "train = pd.read_csv(\"train.csv\")\n",
    "test = pd.read_csv(\"test.csv\")"
   ]
  },
  {
   "cell_type": "code",
   "execution_count": 52,
   "id": "b2efb9c9",
   "metadata": {},
   "outputs": [
    {
     "data": {
      "text/html": [
       "<div>\n",
       "<style scoped>\n",
       "    .dataframe tbody tr th:only-of-type {\n",
       "        vertical-align: middle;\n",
       "    }\n",
       "\n",
       "    .dataframe tbody tr th {\n",
       "        vertical-align: top;\n",
       "    }\n",
       "\n",
       "    .dataframe thead th {\n",
       "        text-align: right;\n",
       "    }\n",
       "</style>\n",
       "<table border=\"1\" class=\"dataframe\">\n",
       "  <thead>\n",
       "    <tr style=\"text-align: right;\">\n",
       "      <th></th>\n",
       "      <th>PassengerId</th>\n",
       "      <th>HomePlanet</th>\n",
       "      <th>CryoSleep</th>\n",
       "      <th>Cabin</th>\n",
       "      <th>Destination</th>\n",
       "      <th>Age</th>\n",
       "      <th>VIP</th>\n",
       "      <th>RoomService</th>\n",
       "      <th>FoodCourt</th>\n",
       "      <th>ShoppingMall</th>\n",
       "      <th>Spa</th>\n",
       "      <th>VRDeck</th>\n",
       "      <th>Name</th>\n",
       "      <th>Transported</th>\n",
       "    </tr>\n",
       "  </thead>\n",
       "  <tbody>\n",
       "    <tr>\n",
       "      <th>0</th>\n",
       "      <td>0001_01</td>\n",
       "      <td>Europa</td>\n",
       "      <td>False</td>\n",
       "      <td>B/0/P</td>\n",
       "      <td>TRAPPIST-1e</td>\n",
       "      <td>39.0</td>\n",
       "      <td>False</td>\n",
       "      <td>0.0</td>\n",
       "      <td>0.0</td>\n",
       "      <td>0.0</td>\n",
       "      <td>0.0</td>\n",
       "      <td>0.0</td>\n",
       "      <td>Maham Ofracculy</td>\n",
       "      <td>False</td>\n",
       "    </tr>\n",
       "    <tr>\n",
       "      <th>1</th>\n",
       "      <td>0002_01</td>\n",
       "      <td>Earth</td>\n",
       "      <td>False</td>\n",
       "      <td>F/0/S</td>\n",
       "      <td>TRAPPIST-1e</td>\n",
       "      <td>24.0</td>\n",
       "      <td>False</td>\n",
       "      <td>109.0</td>\n",
       "      <td>9.0</td>\n",
       "      <td>25.0</td>\n",
       "      <td>549.0</td>\n",
       "      <td>44.0</td>\n",
       "      <td>Juanna Vines</td>\n",
       "      <td>True</td>\n",
       "    </tr>\n",
       "    <tr>\n",
       "      <th>2</th>\n",
       "      <td>0003_01</td>\n",
       "      <td>Europa</td>\n",
       "      <td>False</td>\n",
       "      <td>A/0/S</td>\n",
       "      <td>TRAPPIST-1e</td>\n",
       "      <td>58.0</td>\n",
       "      <td>True</td>\n",
       "      <td>43.0</td>\n",
       "      <td>3576.0</td>\n",
       "      <td>0.0</td>\n",
       "      <td>6715.0</td>\n",
       "      <td>49.0</td>\n",
       "      <td>Altark Susent</td>\n",
       "      <td>False</td>\n",
       "    </tr>\n",
       "    <tr>\n",
       "      <th>3</th>\n",
       "      <td>0003_02</td>\n",
       "      <td>Europa</td>\n",
       "      <td>False</td>\n",
       "      <td>A/0/S</td>\n",
       "      <td>TRAPPIST-1e</td>\n",
       "      <td>33.0</td>\n",
       "      <td>False</td>\n",
       "      <td>0.0</td>\n",
       "      <td>1283.0</td>\n",
       "      <td>371.0</td>\n",
       "      <td>3329.0</td>\n",
       "      <td>193.0</td>\n",
       "      <td>Solam Susent</td>\n",
       "      <td>False</td>\n",
       "    </tr>\n",
       "    <tr>\n",
       "      <th>4</th>\n",
       "      <td>0004_01</td>\n",
       "      <td>Earth</td>\n",
       "      <td>False</td>\n",
       "      <td>F/1/S</td>\n",
       "      <td>TRAPPIST-1e</td>\n",
       "      <td>16.0</td>\n",
       "      <td>False</td>\n",
       "      <td>303.0</td>\n",
       "      <td>70.0</td>\n",
       "      <td>151.0</td>\n",
       "      <td>565.0</td>\n",
       "      <td>2.0</td>\n",
       "      <td>Willy Santantines</td>\n",
       "      <td>True</td>\n",
       "    </tr>\n",
       "  </tbody>\n",
       "</table>\n",
       "</div>"
      ],
      "text/plain": [
       "  PassengerId HomePlanet CryoSleep  Cabin  Destination   Age    VIP  \\\n",
       "0     0001_01     Europa     False  B/0/P  TRAPPIST-1e  39.0  False   \n",
       "1     0002_01      Earth     False  F/0/S  TRAPPIST-1e  24.0  False   \n",
       "2     0003_01     Europa     False  A/0/S  TRAPPIST-1e  58.0   True   \n",
       "3     0003_02     Europa     False  A/0/S  TRAPPIST-1e  33.0  False   \n",
       "4     0004_01      Earth     False  F/1/S  TRAPPIST-1e  16.0  False   \n",
       "\n",
       "   RoomService  FoodCourt  ShoppingMall     Spa  VRDeck               Name  \\\n",
       "0          0.0        0.0           0.0     0.0     0.0    Maham Ofracculy   \n",
       "1        109.0        9.0          25.0   549.0    44.0       Juanna Vines   \n",
       "2         43.0     3576.0           0.0  6715.0    49.0      Altark Susent   \n",
       "3          0.0     1283.0         371.0  3329.0   193.0       Solam Susent   \n",
       "4        303.0       70.0         151.0   565.0     2.0  Willy Santantines   \n",
       "\n",
       "   Transported  \n",
       "0        False  \n",
       "1         True  \n",
       "2        False  \n",
       "3        False  \n",
       "4         True  "
      ]
     },
     "execution_count": 52,
     "metadata": {},
     "output_type": "execute_result"
    }
   ],
   "source": [
    "train.head()"
   ]
  },
  {
   "cell_type": "code",
   "execution_count": 53,
   "id": "f1f7c0f3",
   "metadata": {},
   "outputs": [
    {
     "data": {
      "text/plain": [
       "<seaborn.axisgrid.FacetGrid at 0x1aead275f60>"
      ]
     },
     "execution_count": 53,
     "metadata": {},
     "output_type": "execute_result"
    },
    {
     "data": {
      "image/png": "[encoded data removed]",
      "text/plain": [
       "<Figure size 360x360 with 1 Axes>"
      ]
     },
     "metadata": {
      "needs_background": "light"
     },
     "output_type": "display_data"
    }
   ],
   "source": [
    "sns.displot(train[\"Age\"])"
   ]
  },
  {
   "cell_type": "code",
   "execution_count": 54,
   "id": "3d828148",
   "metadata": {},
   "outputs": [
    {
     "name": "stdout",
     "output_type": "stream",
     "text": [
      "<class 'pandas.core.frame.DataFrame'>\n",
      "RangeIndex: 8693 entries, 0 to 8692\n",
      "Data columns (total 14 columns):\n",
      " #   Column        Non-Null Count  Dtype  \n",
      "---  ------        --------------  -----  \n",
      " 0   PassengerId   8693 non-null   object \n",
      " 1   HomePlanet    8492 non-null   object \n",
      " 2   CryoSleep     8476 non-null   object \n",
      " 3   Cabin         8494 non-null   object \n",
      " 4   Destination   8511 non-null   object \n",
      " 5   Age           8514 non-null   float64\n",
      " 6   VIP           8490 non-null   object \n",
      " 7   RoomService   8512 non-null   float64\n",
      " 8   FoodCourt     8510 non-null   float64\n",
      " 9   ShoppingMall  8485 non-null   float64\n",
      " 10  Spa           8510 non-null   float64\n",
      " 11  VRDeck        8505 non-null   float64\n",
      " 12  Name          8493 non-null   object \n",
      " 13  Transported   8693 non-null   bool   \n",
      "dtypes: bool(1), float64(6), object(7)\n",
      "memory usage: 891.5+ KB\n"
     ]
    }
   ],
   "source": [
    "train.info()"
   ]
  },
  {
   "cell_type": "code",
   "execution_count": 55,
   "id": "989e2198",
   "metadata": {},
   "outputs": [
    {
     "data": {
      "text/plain": [
       "PassengerId       0\n",
       "HomePlanet      201\n",
       "CryoSleep       217\n",
       "Cabin           199\n",
       "Destination     182\n",
       "Age             179\n",
       "VIP             203\n",
       "RoomService     181\n",
       "FoodCourt       183\n",
       "ShoppingMall    208\n",
       "Spa             183\n",
       "VRDeck          188\n",
       "Name            200\n",
       "Transported       0\n",
       "dtype: int64"
      ]
     },
     "execution_count": 55,
     "metadata": {},
     "output_type": "execute_result"
    }
   ],
   "source": [
    "train.isnull().sum()"
   ]
  },
  {
   "cell_type": "code",
   "execution_count": 56,
   "id": "f9db0a84",
   "metadata": {},
   "outputs": [],
   "source": [
    "train.drop([\"Cabin\", \"Name\"], axis=1, inplace=True)"
   ]
  },
  {
   "cell_type": "code",
   "execution_count": 57,
   "id": "698f2be7",
   "metadata": {},
   "outputs": [
    {
     "name": "stdout",
     "output_type": "stream",
     "text": [
      "['Europa' 'Earth' 'Mars' nan]\n",
      "[False True nan]\n",
      "['TRAPPIST-1e' 'PSO J318.5-22' '55 Cancri e' nan]\n",
      "[False True nan]\n",
      "[False  True]\n"
     ]
    }
   ],
   "source": [
    "print(train[\"HomePlanet\"].unique())\n",
    "print(train[\"CryoSleep\"].unique())\n",
    "print(train[\"Destination\"].unique())\n",
    "print(train[\"VIP\"].unique())\n",
    "print(train[\"Transported\"].unique())"
   ]
  },
  {
   "cell_type": "code",
   "execution_count": 58,
   "id": "8f00a50e",
   "metadata": {},
   "outputs": [],
   "source": [
    "labelencoder = LabelEncoder()\n",
    "train[\"homeplanet\"] = labelencoder.fit_transform(train[\"HomePlanet\"])\n",
    "train[\"cryosleep\"] = labelencoder.fit_transform(train[\"CryoSleep\"])\n",
    "train[\"destination\"] = labelencoder.fit_transform(train[\"Destination\"])\n",
    "train[\"vip\"] = labelencoder.fit_transform(train[\"VIP\"])\n",
    "train[\"transported\"] = labelencoder.fit_transform(train[\"Transported\"])"
   ]
  },
  {
   "cell_type": "code",
   "execution_count": 59,
   "id": "d293671b",
   "metadata": {},
   "outputs": [
    {
     "data": {
      "text/html": [
       "<div>\n",
       "<style scoped>\n",
       "    .dataframe tbody tr th:only-of-type {\n",
       "        vertical-align: middle;\n",
       "    }\n",
       "\n",
       "    .dataframe tbody tr th {\n",
       "        vertical-align: top;\n",
       "    }\n",
       "\n",
       "    .dataframe thead th {\n",
       "        text-align: right;\n",
       "    }\n",
       "</style>\n",
       "<table border=\"1\" class=\"dataframe\">\n",
       "  <thead>\n",
       "    <tr style=\"text-align: right;\">\n",
       "      <th></th>\n",
       "      <th>PassengerId</th>\n",
       "      <th>HomePlanet</th>\n",
       "      <th>CryoSleep</th>\n",
       "      <th>Destination</th>\n",
       "      <th>Age</th>\n",
       "      <th>VIP</th>\n",
       "      <th>RoomService</th>\n",
       "      <th>FoodCourt</th>\n",
       "      <th>ShoppingMall</th>\n",
       "      <th>Spa</th>\n",
       "      <th>VRDeck</th>\n",
       "      <th>Transported</th>\n",
       "      <th>homeplanet</th>\n",
       "      <th>cryosleep</th>\n",
       "      <th>destination</th>\n",
       "      <th>vip</th>\n",
       "      <th>transported</th>\n",
       "    </tr>\n",
       "  </thead>\n",
       "  <tbody>\n",
       "    <tr>\n",
       "      <th>0</th>\n",
       "      <td>0001_01</td>\n",
       "      <td>Europa</td>\n",
       "      <td>False</td>\n",
       "      <td>TRAPPIST-1e</td>\n",
       "      <td>39.0</td>\n",
       "      <td>False</td>\n",
       "      <td>0.0</td>\n",
       "      <td>0.0</td>\n",
       "      <td>0.0</td>\n",
       "      <td>0.0</td>\n",
       "      <td>0.0</td>\n",
       "      <td>False</td>\n",
       "      <td>1</td>\n",
       "      <td>0</td>\n",
       "      <td>2</td>\n",
       "      <td>0</td>\n",
       "      <td>0</td>\n",
       "    </tr>\n",
       "    <tr>\n",
       "      <th>1</th>\n",
       "      <td>0002_01</td>\n",
       "      <td>Earth</td>\n",
       "      <td>False</td>\n",
       "      <td>TRAPPIST-1e</td>\n",
       "      <td>24.0</td>\n",
       "      <td>False</td>\n",
       "      <td>109.0</td>\n",
       "      <td>9.0</td>\n",
       "      <td>25.0</td>\n",
       "      <td>549.0</td>\n",
       "      <td>44.0</td>\n",
       "      <td>True</td>\n",
       "      <td>0</td>\n",
       "      <td>0</td>\n",
       "      <td>2</td>\n",
       "      <td>0</td>\n",
       "      <td>1</td>\n",
       "    </tr>\n",
       "    <tr>\n",
       "      <th>2</th>\n",
       "      <td>0003_01</td>\n",
       "      <td>Europa</td>\n",
       "      <td>False</td>\n",
       "      <td>TRAPPIST-1e</td>\n",
       "      <td>58.0</td>\n",
       "      <td>True</td>\n",
       "      <td>43.0</td>\n",
       "      <td>3576.0</td>\n",
       "      <td>0.0</td>\n",
       "      <td>6715.0</td>\n",
       "      <td>49.0</td>\n",
       "      <td>False</td>\n",
       "      <td>1</td>\n",
       "      <td>0</td>\n",
       "      <td>2</td>\n",
       "      <td>1</td>\n",
       "      <td>0</td>\n",
       "    </tr>\n",
       "    <tr>\n",
       "      <th>3</th>\n",
       "      <td>0003_02</td>\n",
       "      <td>Europa</td>\n",
       "      <td>False</td>\n",
       "      <td>TRAPPIST-1e</td>\n",
       "      <td>33.0</td>\n",
       "      <td>False</td>\n",
       "      <td>0.0</td>\n",
       "      <td>1283.0</td>\n",
       "      <td>371.0</td>\n",
       "      <td>3329.0</td>\n",
       "      <td>193.0</td>\n",
       "      <td>False</td>\n",
       "      <td>1</td>\n",
       "      <td>0</td>\n",
       "      <td>2</td>\n",
       "      <td>0</td>\n",
       "      <td>0</td>\n",
       "    </tr>\n",
       "    <tr>\n",
       "      <th>4</th>\n",
       "      <td>0004_01</td>\n",
       "      <td>Earth</td>\n",
       "      <td>False</td>\n",
       "      <td>TRAPPIST-1e</td>\n",
       "      <td>16.0</td>\n",
       "      <td>False</td>\n",
       "      <td>303.0</td>\n",
       "      <td>70.0</td>\n",
       "      <td>151.0</td>\n",
       "      <td>565.0</td>\n",
       "      <td>2.0</td>\n",
       "      <td>True</td>\n",
       "      <td>0</td>\n",
       "      <td>0</td>\n",
       "      <td>2</td>\n",
       "      <td>0</td>\n",
       "      <td>1</td>\n",
       "    </tr>\n",
       "  </tbody>\n",
       "</table>\n",
       "</div>"
      ],
      "text/plain": [
       "  PassengerId HomePlanet CryoSleep  Destination   Age    VIP  RoomService  \\\n",
       "0     0001_01     Europa     False  TRAPPIST-1e  39.0  False          0.0   \n",
       "1     0002_01      Earth     False  TRAPPIST-1e  24.0  False        109.0   \n",
       "2     0003_01     Europa     False  TRAPPIST-1e  58.0   True         43.0   \n",
       "3     0003_02     Europa     False  TRAPPIST-1e  33.0  False          0.0   \n",
       "4     0004_01      Earth     False  TRAPPIST-1e  16.0  False        303.0   \n",
       "\n",
       "   FoodCourt  ShoppingMall     Spa  VRDeck  Transported  homeplanet  \\\n",
       "0        0.0           0.0     0.0     0.0        False           1   \n",
       "1        9.0          25.0   549.0    44.0         True           0   \n",
       "2     3576.0           0.0  6715.0    49.0        False           1   \n",
       "3     1283.0         371.0  3329.0   193.0        False           1   \n",
       "4       70.0         151.0   565.0     2.0         True           0   \n",
       "\n",
       "   cryosleep  destination  vip  transported  \n",
       "0          0            2    0            0  \n",
       "1          0            2    0            1  \n",
       "2          0            2    1            0  \n",
       "3          0            2    0            0  \n",
       "4          0            2    0            1  "
      ]
     },
     "execution_count": 59,
     "metadata": {},
     "output_type": "execute_result"
    }
   ],
   "source": [
    "train.head()"
   ]
  },
  {
   "cell_type": "code",
   "execution_count": 60,
   "id": "2c3da86e",
   "metadata": {},
   "outputs": [],
   "source": [
    "train.drop([\"HomePlanet\", \"CryoSleep\", \"Destination\", \"VIP\", \"Transported\"], axis=1, inplace=True)"
   ]
  },
  {
   "cell_type": "code",
   "execution_count": 61,
   "id": "9fd727db",
   "metadata": {},
   "outputs": [
    {
     "data": {
      "text/html": [
       "<div>\n",
       "<style scoped>\n",
       "    .dataframe tbody tr th:only-of-type {\n",
       "        vertical-align: middle;\n",
       "    }\n",
       "\n",
       "    .dataframe tbody tr th {\n",
       "        vertical-align: top;\n",
       "    }\n",
       "\n",
       "    .dataframe thead th {\n",
       "        text-align: right;\n",
       "    }\n",
       "</style>\n",
       "<table border=\"1\" class=\"dataframe\">\n",
       "  <thead>\n",
       "    <tr style=\"text-align: right;\">\n",
       "      <th></th>\n",
       "      <th>PassengerId</th>\n",
       "      <th>Age</th>\n",
       "      <th>RoomService</th>\n",
       "      <th>FoodCourt</th>\n",
       "      <th>ShoppingMall</th>\n",
       "      <th>Spa</th>\n",
       "      <th>VRDeck</th>\n",
       "      <th>homeplanet</th>\n",
       "      <th>cryosleep</th>\n",
       "      <th>destination</th>\n",
       "      <th>vip</th>\n",
       "      <th>transported</th>\n",
       "    </tr>\n",
       "  </thead>\n",
       "  <tbody>\n",
       "    <tr>\n",
       "      <th>0</th>\n",
       "      <td>0001_01</td>\n",
       "      <td>39.0</td>\n",
       "      <td>0.0</td>\n",
       "      <td>0.0</td>\n",
       "      <td>0.0</td>\n",
       "      <td>0.0</td>\n",
       "      <td>0.0</td>\n",
       "      <td>1</td>\n",
       "      <td>0</td>\n",
       "      <td>2</td>\n",
       "      <td>0</td>\n",
       "      <td>0</td>\n",
       "    </tr>\n",
       "    <tr>\n",
       "      <th>1</th>\n",
       "      <td>0002_01</td>\n",
       "      <td>24.0</td>\n",
       "      <td>109.0</td>\n",
       "      <td>9.0</td>\n",
       "      <td>25.0</td>\n",
       "      <td>549.0</td>\n",
       "      <td>44.0</td>\n",
       "      <td>0</td>\n",
       "      <td>0</td>\n",
       "      <td>2</td>\n",
       "      <td>0</td>\n",
       "      <td>1</td>\n",
       "    </tr>\n",
       "    <tr>\n",
       "      <th>2</th>\n",
       "      <td>0003_01</td>\n",
       "      <td>58.0</td>\n",
       "      <td>43.0</td>\n",
       "      <td>3576.0</td>\n",
       "      <td>0.0</td>\n",
       "      <td>6715.0</td>\n",
       "      <td>49.0</td>\n",
       "      <td>1</td>\n",
       "      <td>0</td>\n",
       "      <td>2</td>\n",
       "      <td>1</td>\n",
       "      <td>0</td>\n",
       "    </tr>\n",
       "    <tr>\n",
       "      <th>3</th>\n",
       "      <td>0003_02</td>\n",
       "      <td>33.0</td>\n",
       "      <td>0.0</td>\n",
       "      <td>1283.0</td>\n",
       "      <td>371.0</td>\n",
       "      <td>3329.0</td>\n",
       "      <td>193.0</td>\n",
       "      <td>1</td>\n",
       "      <td>0</td>\n",
       "      <td>2</td>\n",
       "      <td>0</td>\n",
       "      <td>0</td>\n",
       "    </tr>\n",
       "    <tr>\n",
       "      <th>4</th>\n",
       "      <td>0004_01</td>\n",
       "      <td>16.0</td>\n",
       "      <td>303.0</td>\n",
       "      <td>70.0</td>\n",
       "      <td>151.0</td>\n",
       "      <td>565.0</td>\n",
       "      <td>2.0</td>\n",
       "      <td>0</td>\n",
       "      <td>0</td>\n",
       "      <td>2</td>\n",
       "      <td>0</td>\n",
       "      <td>1</td>\n",
       "    </tr>\n",
       "  </tbody>\n",
       "</table>\n",
       "</div>"
      ],
      "text/plain": [
       "  PassengerId   Age  RoomService  FoodCourt  ShoppingMall     Spa  VRDeck  \\\n",
       "0     0001_01  39.0          0.0        0.0           0.0     0.0     0.0   \n",
       "1     0002_01  24.0        109.0        9.0          25.0   549.0    44.0   \n",
       "2     0003_01  58.0         43.0     3576.0           0.0  6715.0    49.0   \n",
       "3     0003_02  33.0          0.0     1283.0         371.0  3329.0   193.0   \n",
       "4     0004_01  16.0        303.0       70.0         151.0   565.0     2.0   \n",
       "\n",
       "   homeplanet  cryosleep  destination  vip  transported  \n",
       "0           1          0            2    0            0  \n",
       "1           0          0            2    0            1  \n",
       "2           1          0            2    1            0  \n",
       "3           1          0            2    0            0  \n",
       "4           0          0            2    0            1  "
      ]
     },
     "execution_count": 61,
     "metadata": {},
     "output_type": "execute_result"
    }
   ],
   "source": [
    "train.head()"
   ]
  },
  {
   "cell_type": "code",
   "execution_count": 66,
   "id": "aaf713d7",
   "metadata": {},
   "outputs": [],
   "source": [
    "train[\"homeplanet\"].fillna(int(train[\"homeplanet\"].mean()), inplace=True)\n",
    "train[\"cryosleep\"].fillna(int(train[\"cryosleep\"].mean()), inplace=True)\n",
    "train[\"destination\"].fillna(int(train[\"destination\"].mean()), inplace=True)\n",
    "train[\"Age\"].fillna(int(train[\"Age\"].mean()), inplace=True)\n",
    "train[\"vip\"].fillna(int(train[\"vip\"].mean()), inplace=True)\n",
    "train[\"RoomService\"].fillna(int(train[\"RoomService\"].mean()), inplace=True)\n",
    "train[\"FoodCourt\"].fillna(int(train[\"FoodCourt\"].mean()), inplace=True)\n",
    "train[\"ShoppingMall\"].fillna(int(train[\"ShoppingMall\"].mean()), inplace=True)\n",
    "train[\"Spa\"].fillna(int(train[\"Spa\"].mean()), inplace=True)\n",
    "train[\"VRDeck\"].fillna(int(train[\"VRDeck\"].mean()), inplace=True)"
   ]
  },
  {
   "cell_type": "code",
   "execution_count": 67,
   "id": "3b3c410a",
   "metadata": {},
   "outputs": [
    {
     "data": {
      "text/plain": [
       "PassengerId     0\n",
       "Age             0\n",
       "RoomService     0\n",
       "FoodCourt       0\n",
       "ShoppingMall    0\n",
       "Spa             0\n",
       "VRDeck          0\n",
       "homeplanet      0\n",
       "cryosleep       0\n",
       "destination     0\n",
       "vip             0\n",
       "transported     0\n",
       "dtype: int64"
      ]
     },
     "execution_count": 67,
     "metadata": {},
     "output_type": "execute_result"
    }
   ],
   "source": [
    "train.isnull().sum()"
   ]
  },
  {
   "cell_type": "code",
   "execution_count": 76,
   "id": "e6110b90",
   "metadata": {},
   "outputs": [
    {
     "data": {
      "text/html": [
       "<div>\n",
       "<style scoped>\n",
       "    .dataframe tbody tr th:only-of-type {\n",
       "        vertical-align: middle;\n",
       "    }\n",
       "\n",
       "    .dataframe tbody tr th {\n",
       "        vertical-align: top;\n",
       "    }\n",
       "\n",
       "    .dataframe thead th {\n",
       "        text-align: right;\n",
       "    }\n",
       "</style>\n",
       "<table border=\"1\" class=\"dataframe\">\n",
       "  <thead>\n",
       "    <tr style=\"text-align: right;\">\n",
       "      <th></th>\n",
       "      <th>Age</th>\n",
       "      <th>RoomService</th>\n",
       "      <th>FoodCourt</th>\n",
       "      <th>ShoppingMall</th>\n",
       "      <th>Spa</th>\n",
       "      <th>VRDeck</th>\n",
       "      <th>homeplanet</th>\n",
       "      <th>cryosleep</th>\n",
       "      <th>destination</th>\n",
       "      <th>vip</th>\n",
       "      <th>transported</th>\n",
       "    </tr>\n",
       "  </thead>\n",
       "  <tbody>\n",
       "    <tr>\n",
       "      <th>count</th>\n",
       "      <td>8693.000000</td>\n",
       "      <td>8693.000000</td>\n",
       "      <td>8693.000000</td>\n",
       "      <td>8693.000000</td>\n",
       "      <td>8693.000000</td>\n",
       "      <td>8693.000000</td>\n",
       "      <td>8693.000000</td>\n",
       "      <td>8693.000000</td>\n",
       "      <td>8693.000000</td>\n",
       "      <td>8693.000000</td>\n",
       "      <td>8693.000000</td>\n",
       "    </tr>\n",
       "    <tr>\n",
       "      <th>mean</th>\n",
       "      <td>28.810882</td>\n",
       "      <td>224.673300</td>\n",
       "      <td>458.075578</td>\n",
       "      <td>173.711722</td>\n",
       "      <td>311.135856</td>\n",
       "      <td>304.836305</td>\n",
       "      <td>0.719199</td>\n",
       "      <td>0.399287</td>\n",
       "      <td>1.515242</td>\n",
       "      <td>0.069596</td>\n",
       "      <td>0.503624</td>\n",
       "    </tr>\n",
       "    <tr>\n",
       "      <th>std</th>\n",
       "      <td>14.339536</td>\n",
       "      <td>659.739371</td>\n",
       "      <td>1594.434978</td>\n",
       "      <td>597.417450</td>\n",
       "      <td>1124.675871</td>\n",
       "      <td>1133.259056</td>\n",
       "      <td>0.863402</td>\n",
       "      <td>0.538345</td>\n",
       "      <td>0.840148</td>\n",
       "      <td>0.333871</td>\n",
       "      <td>0.500016</td>\n",
       "    </tr>\n",
       "    <tr>\n",
       "      <th>min</th>\n",
       "      <td>0.000000</td>\n",
       "      <td>0.000000</td>\n",
       "      <td>0.000000</td>\n",
       "      <td>0.000000</td>\n",
       "      <td>0.000000</td>\n",
       "      <td>0.000000</td>\n",
       "      <td>0.000000</td>\n",
       "      <td>0.000000</td>\n",
       "      <td>0.000000</td>\n",
       "      <td>0.000000</td>\n",
       "      <td>0.000000</td>\n",
       "    </tr>\n",
       "    <tr>\n",
       "      <th>25%</th>\n",
       "      <td>20.000000</td>\n",
       "      <td>0.000000</td>\n",
       "      <td>0.000000</td>\n",
       "      <td>0.000000</td>\n",
       "      <td>0.000000</td>\n",
       "      <td>0.000000</td>\n",
       "      <td>0.000000</td>\n",
       "      <td>0.000000</td>\n",
       "      <td>1.000000</td>\n",
       "      <td>0.000000</td>\n",
       "      <td>0.000000</td>\n",
       "    </tr>\n",
       "    <tr>\n",
       "      <th>50%</th>\n",
       "      <td>27.000000</td>\n",
       "      <td>0.000000</td>\n",
       "      <td>0.000000</td>\n",
       "      <td>0.000000</td>\n",
       "      <td>0.000000</td>\n",
       "      <td>0.000000</td>\n",
       "      <td>0.000000</td>\n",
       "      <td>0.000000</td>\n",
       "      <td>2.000000</td>\n",
       "      <td>0.000000</td>\n",
       "      <td>1.000000</td>\n",
       "    </tr>\n",
       "    <tr>\n",
       "      <th>75%</th>\n",
       "      <td>37.000000</td>\n",
       "      <td>78.000000</td>\n",
       "      <td>118.000000</td>\n",
       "      <td>45.000000</td>\n",
       "      <td>89.000000</td>\n",
       "      <td>71.000000</td>\n",
       "      <td>1.000000</td>\n",
       "      <td>1.000000</td>\n",
       "      <td>2.000000</td>\n",
       "      <td>0.000000</td>\n",
       "      <td>1.000000</td>\n",
       "    </tr>\n",
       "    <tr>\n",
       "      <th>max</th>\n",
       "      <td>79.000000</td>\n",
       "      <td>14327.000000</td>\n",
       "      <td>29813.000000</td>\n",
       "      <td>23492.000000</td>\n",
       "      <td>22408.000000</td>\n",
       "      <td>24133.000000</td>\n",
       "      <td>3.000000</td>\n",
       "      <td>2.000000</td>\n",
       "      <td>3.000000</td>\n",
       "      <td>2.000000</td>\n",
       "      <td>1.000000</td>\n",
       "    </tr>\n",
       "  </tbody>\n",
       "</table>\n",
       "</div>"
      ],
      "text/plain": [
       "               Age   RoomService     FoodCourt  ShoppingMall           Spa  \\\n",
       "count  8693.000000   8693.000000   8693.000000   8693.000000   8693.000000   \n",
       "mean     28.810882    224.673300    458.075578    173.711722    311.135856   \n",
       "std      14.339536    659.739371   1594.434978    597.417450   1124.675871   \n",
       "min       0.000000      0.000000      0.000000      0.000000      0.000000   \n",
       "25%      20.000000      0.000000      0.000000      0.000000      0.000000   \n",
       "50%      27.000000      0.000000      0.000000      0.000000      0.000000   \n",
       "75%      37.000000     78.000000    118.000000     45.000000     89.000000   \n",
       "max      79.000000  14327.000000  29813.000000  23492.000000  22408.000000   \n",
       "\n",
       "             VRDeck   homeplanet    cryosleep  destination          vip  \\\n",
       "count   8693.000000  8693.000000  8693.000000  8693.000000  8693.000000   \n",
       "mean     304.836305     0.719199     0.399287     1.515242     0.069596   \n",
       "std     1133.259056     0.863402     0.538345     0.840148     0.333871   \n",
       "min        0.000000     0.000000     0.000000     0.000000     0.000000   \n",
       "25%        0.000000     0.000000     0.000000     1.000000     0.000000   \n",
       "50%        0.000000     0.000000     0.000000     2.000000     0.000000   \n",
       "75%       71.000000     1.000000     1.000000     2.000000     0.000000   \n",
       "max    24133.000000     3.000000     2.000000     3.000000     2.000000   \n",
       "\n",
       "       transported  \n",
       "count  8693.000000  \n",
       "mean      0.503624  \n",
       "std       0.500016  \n",
       "min       0.000000  \n",
       "25%       0.000000  \n",
       "50%       1.000000  \n",
       "75%       1.000000  \n",
       "max       1.000000  "
      ]
     },
     "execution_count": 76,
     "metadata": {},
     "output_type": "execute_result"
    }
   ],
   "source": [
    "train.describe()"
   ]
  },
  {
   "cell_type": "code",
   "execution_count": 68,
   "id": "cb22da49",
   "metadata": {},
   "outputs": [
    {
     "data": {
      "text/plain": [
       "<seaborn.axisgrid.FacetGrid at 0x1aead0f8400>"
      ]
     },
     "execution_count": 68,
     "metadata": {},
     "output_type": "execute_result"
    },
    {
     "data": {
      "image/png": "[encoded data removed]",
      "text/plain": [
       "<Figure size 360x360 with 1 Axes>"
      ]
     },
     "metadata": {
      "needs_background": "light"
     },
     "output_type": "display_data"
    }
   ],
   "source": [
    "sns.displot(train[\"transported\"])"
   ]
  },
  {
   "cell_type": "code",
   "execution_count": 70,
   "id": "067cb1b9",
   "metadata": {},
   "outputs": [
    {
     "name": "stdout",
     "output_type": "stream",
     "text": [
      "1    4378\n",
      "0    4315\n",
      "Name: transported, dtype: int64\n",
      "1    0.503624\n",
      "0    0.496376\n",
      "Name: transported, dtype: float64\n"
     ]
    }
   ],
   "source": [
    "transported_count = train[\"transported\"].value_counts()\n",
    "transported_percent = transported_count / len(train)\n",
    "print(transported_count)\n",
    "print(transported_percent)"
   ]
  },
  {
   "cell_type": "markdown",
   "id": "7f7fa26d",
   "metadata": {},
   "source": [
    "## Splitting the data"
   ]
  },
  {
   "cell_type": "code",
   "execution_count": 71,
   "id": "6e07d1b9",
   "metadata": {},
   "outputs": [],
   "source": [
    "from sklearn.preprocessing import MinMaxScaler\n",
    "from sklearn.model_selection import train_test_split\n",
    "from sklearn.metrics import classification_report, confusion_matrix\n",
    "\n",
    "X =  train.drop(\"transported\", axis=1)\n",
    "y = train[\"transported\"]\n",
    "\n",
    "X_train, X_val, y_train, y_val = train_test_split(X, y, test_size=0.2)"
   ]
  },
  {
   "cell_type": "code",
   "execution_count": 72,
   "id": "8c1e60a8",
   "metadata": {},
   "outputs": [],
   "source": [
    "scaler = MinMaxScaler()\n",
    "X_train = scaler.fit_transform(X_train)\n",
    "X_val = scaler.transform(X_val)"
   ]
  },
  {
   "cell_type": "code",
   "execution_count": 73,
   "id": "0a978860",
   "metadata": {},
   "outputs": [
    {
     "data": {
      "text/plain": [
       "array([[0.87594322, 0.05063291, 0.        , ..., 0.        , 0.66666667,\n",
       "        0.        ],\n",
       "       [0.01832289, 0.40506329, 0.        , ..., 0.5       , 0.66666667,\n",
       "        0.        ],\n",
       "       [0.52899275, 0.53164557, 0.        , ..., 0.        , 0.66666667,\n",
       "        0.        ],\n",
       "       ...,\n",
       "       [0.94546137, 0.30379747, 0.        , ..., 0.5       , 0.66666667,\n",
       "        0.        ],\n",
       "       [0.61263245, 0.3164557 , 0.09841558, ..., 0.        , 0.        ,\n",
       "        0.        ],\n",
       "       [0.3369257 , 0.18987342, 0.00432749, ..., 0.        , 0.        ,\n",
       "        0.        ]])"
      ]
     },
     "execution_count": 73,
     "metadata": {},
     "output_type": "execute_result"
    }
   ],
   "source": [
    "X_train"
   ]
  },
  {
   "cell_type": "markdown",
   "id": "51ab18d4",
   "metadata": {},
   "source": [
    "### Logistic Regression"
   ]
  },
  {
   "cell_type": "code",
   "execution_count": 75,
   "id": "fec225e1",
   "metadata": {},
   "outputs": [
    {
     "name": "stdout",
     "output_type": "stream",
     "text": [
      "              precision    recall  f1-score   support\n",
      "\n",
      "           0       0.74      0.80      0.77       845\n",
      "           1       0.80      0.73      0.76       894\n",
      "\n",
      "    accuracy                           0.76      1739\n",
      "   macro avg       0.77      0.77      0.76      1739\n",
      "weighted avg       0.77      0.76      0.76      1739\n",
      "\n",
      "[[678 167]\n",
      " [243 651]]\n"
     ]
    }
   ],
   "source": [
    "from sklearn.linear_model import LogisticRegression\n",
    "\n",
    "\n",
    "lr = LogisticRegression()\n",
    "\n",
    "lr.fit(X_train, y_train)\n",
    "\n",
    "lr_predictions = lr.predict(X_val)\n",
    "\n",
    "print(classification_report(y_val, lr_predictions))\n",
    "print(confusion_matrix(y_val, lr_predictions))"
   ]
  },
  {
   "cell_type": "markdown",
   "id": "84013d8e",
   "metadata": {},
   "source": [
    "### KNN"
   ]
  },
  {
   "cell_type": "code",
   "execution_count": 77,
   "id": "335501db",
   "metadata": {},
   "outputs": [
    {
     "data": {
      "text/plain": [
       "[0.2783208740655549,\n",
       " 0.27544565842438185,\n",
       " 0.24784358826912017,\n",
       " 0.24669350201265094,\n",
       " 0.23749281196089705,\n",
       " 0.24094307073030477,\n",
       " 0.24324324324324326,\n",
       " 0.25014376078205863,\n",
       " 0.2449683726279471,\n",
       " 0.24381828637147787,\n",
       " 0.23634272570442783,\n",
       " 0.24036802760207016,\n",
       " 0.24151811385853938,\n",
       " 0.24094307073030477,\n",
       " 0.242093156986774,\n",
       " 0.24324324324324326,\n",
       " 0.24324324324324326,\n",
       " 0.242093156986774,\n",
       " 0.23921794134560093,\n",
       " 0.24324324324324326,\n",
       " 0.24611845888441633,\n",
       " 0.24669350201265094,\n",
       " 0.2386428982173663,\n",
       " 0.24669350201265094,\n",
       " 0.24151811385853938,\n",
       " 0.23979298447383554,\n",
       " 0.24094307073030477,\n",
       " 0.24094307073030477,\n",
       " 0.23921794134560093,\n",
       " 0.242093156986774,\n",
       " 0.24266820011500861,\n",
       " 0.2386428982173663,\n",
       " 0.24324324324324326,\n",
       " 0.24094307073030477,\n",
       " 0.24094307073030477,\n",
       " 0.23749281196089705,\n",
       " 0.24036802760207016,\n",
       " 0.242093156986774,\n",
       " 0.24266820011500861]"
      ]
     },
     "execution_count": 77,
     "metadata": {},
     "output_type": "execute_result"
    }
   ],
   "source": [
    "from sklearn.neighbors import KNeighborsClassifier\n",
    "\n",
    "error_list = []\n",
    "\n",
    "for i in range(1,40):\n",
    "    knn = KNeighborsClassifier(n_neighbors=i)\n",
    "    knn.fit(X_train, y_train)\n",
    "    knn_predictions = knn.predict(X_val)\n",
    "    error_list.append(np.mean(knn_predictions != y_val))\n",
    "\n",
    "error_list"
   ]
  },
  {
   "cell_type": "code",
   "execution_count": 79,
   "id": "a8317f14",
   "metadata": {},
   "outputs": [
    {
     "name": "stdout",
     "output_type": "stream",
     "text": [
      "10\n"
     ]
    },
    {
     "data": {
      "text/plain": [
       "0.23634272570442783"
      ]
     },
     "execution_count": 79,
     "metadata": {},
     "output_type": "execute_result"
    },
    {
     "data": {
      "image/png": "[encoded data removed]",
      "text/plain": [
       "<Figure size 432x288 with 1 Axes>"
      ]
     },
     "metadata": {
      "needs_background": "light"
     },
     "output_type": "display_data"
    }
   ],
   "source": [
    "plt.plot(range(1,40), error_list)\n",
    "\n",
    "print(np.argmin(error_list))\n",
    "error_list[10]"
   ]
  },
  {
   "cell_type": "code",
   "execution_count": 80,
   "id": "800f9429",
   "metadata": {},
   "outputs": [
    {
     "name": "stdout",
     "output_type": "stream",
     "text": [
      "              precision    recall  f1-score   support\n",
      "\n",
      "           0       0.72      0.83      0.77       845\n",
      "           1       0.81      0.69      0.74       894\n",
      "\n",
      "    accuracy                           0.76      1739\n",
      "   macro avg       0.76      0.76      0.76      1739\n",
      "weighted avg       0.76      0.76      0.76      1739\n",
      "\n",
      "[[699 146]\n",
      " [278 616]]\n"
     ]
    }
   ],
   "source": [
    "knn = KNeighborsClassifier(n_neighbors=10)\n",
    "knn.fit(X_train, y_train)\n",
    "knn_predictions = knn.predict(X_val)\n",
    "\n",
    "print(classification_report(y_val, knn_predictions))\n",
    "print(confusion_matrix(y_val, knn_predictions))"
   ]
  },
  {
   "cell_type": "markdown",
   "id": "49758023",
   "metadata": {},
   "source": [
    "## SVM"
   ]
  },
  {
   "cell_type": "code",
   "execution_count": 81,
   "id": "29828d2d",
   "metadata": {},
   "outputs": [
    {
     "name": "stdout",
     "output_type": "stream",
     "text": [
      "              precision    recall  f1-score   support\n",
      "\n",
      "           0       0.73      0.84      0.78       845\n",
      "           1       0.82      0.71      0.76       894\n",
      "\n",
      "    accuracy                           0.77      1739\n",
      "   macro avg       0.77      0.77      0.77      1739\n",
      "weighted avg       0.78      0.77      0.77      1739\n",
      "\n",
      "[[706 139]\n",
      " [262 632]]\n"
     ]
    }
   ],
   "source": [
    "from sklearn.svm import SVC\n",
    "\n",
    "svm = SVC()\n",
    "svm.fit(X_train, y_train)\n",
    "\n",
    "svm_predictions = svm.predict(X_val)\n",
    "\n",
    "print(classification_report(y_val, svm_predictions))\n",
    "print(confusion_matrix(y_val, svm_predictions))"
   ]
  },
  {
   "cell_type": "markdown",
   "id": "78027ea3",
   "metadata": {},
   "source": [
    "### GridSearchCV"
   ]
  },
  {
   "cell_type": "code",
   "execution_count": 82,
   "id": "62a2d67c",
   "metadata": {},
   "outputs": [
    {
     "name": "stdout",
     "output_type": "stream",
     "text": [
      "Fitting 5 folds for each of 36 candidates, totalling 180 fits\n",
      "[CV] END .....................................C=0.1, gamma=1; total time=   1.8s\n",
      "[CV] END .....................................C=0.1, gamma=1; total time=   2.6s\n",
      "[CV] END .....................................C=0.1, gamma=1; total time=   1.9s\n",
      "[CV] END .....................................C=0.1, gamma=1; total time=   2.0s\n",
      "[CV] END .....................................C=0.1, gamma=1; total time=   2.6s\n",
      "[CV] END ...................................C=0.1, gamma=0.1; total time=   2.1s\n",
      "[CV] END ...................................C=0.1, gamma=0.1; total time=   3.3s\n",
      "[CV] END ...................................C=0.1, gamma=0.1; total time=   2.2s\n",
      "[CV] END ...................................C=0.1, gamma=0.1; total time=   3.4s\n",
      "[CV] END ...................................C=0.1, gamma=0.1; total time=   2.4s\n",
      "[CV] END .................................C=0.1, gamma=0.001; total time=   3.6s\n",
      "[CV] END .................................C=0.1, gamma=0.001; total time=   3.9s\n",
      "[CV] END .................................C=0.1, gamma=0.001; total time=   3.3s\n",
      "[CV] END .................................C=0.1, gamma=0.001; total time=   3.5s\n",
      "[CV] END .................................C=0.1, gamma=0.001; total time=   3.9s\n",
      "[CV] END ................................C=0.1, gamma=0.0001; total time=   3.2s\n",
      "[CV] END ................................C=0.1, gamma=0.0001; total time=   3.3s\n",
      "[CV] END ................................C=0.1, gamma=0.0001; total time=   3.9s\n",
      "[CV] END ................................C=0.1, gamma=0.0001; total time=   3.3s\n",
      "[CV] END ................................C=0.1, gamma=0.0001; total time=   3.3s\n",
      "[CV] END .................................C=0.1, gamma=1e-05; total time=   3.9s\n",
      "[CV] END .................................C=0.1, gamma=1e-05; total time=   3.2s\n",
      "[CV] END .................................C=0.1, gamma=1e-05; total time=   3.4s\n",
      "[CV] END .................................C=0.1, gamma=1e-05; total time=   3.9s\n",
      "[CV] END .................................C=0.1, gamma=1e-05; total time=   3.5s\n",
      "[CV] END .................................C=0.1, gamma=1e-06; total time=   3.3s\n",
      "[CV] END .................................C=0.1, gamma=1e-06; total time=   3.9s\n",
      "[CV] END .................................C=0.1, gamma=1e-06; total time=   3.7s\n",
      "[CV] END .................................C=0.1, gamma=1e-06; total time=   2.8s\n",
      "[CV] END .................................C=0.1, gamma=1e-06; total time=   4.1s\n",
      "[CV] END .......................................C=1, gamma=1; total time=   1.8s\n",
      "[CV] END .......................................C=1, gamma=1; total time=   2.6s\n",
      "[CV] END .......................................C=1, gamma=1; total time=   1.6s\n",
      "[CV] END .......................................C=1, gamma=1; total time=   2.4s\n",
      "[CV] END .......................................C=1, gamma=1; total time=   1.7s\n",
      "[CV] END .....................................C=1, gamma=0.1; total time=   1.7s\n",
      "[CV] END .....................................C=1, gamma=0.1; total time=   2.8s\n",
      "[CV] END .....................................C=1, gamma=0.1; total time=   1.7s\n",
      "[CV] END .....................................C=1, gamma=0.1; total time=   2.8s\n",
      "[CV] END .....................................C=1, gamma=0.1; total time=   1.8s\n",
      "[CV] END ...................................C=1, gamma=0.001; total time=   3.9s\n",
      "[CV] END ...................................C=1, gamma=0.001; total time=   2.9s\n",
      "[CV] END ...................................C=1, gamma=0.001; total time=   3.9s\n",
      "[CV] END ...................................C=1, gamma=0.001; total time=   3.9s\n",
      "[CV] END ...................................C=1, gamma=0.001; total time=   3.1s\n",
      "[CV] END ..................................C=1, gamma=0.0001; total time=   3.5s\n",
      "[CV] END ..................................C=1, gamma=0.0001; total time=   3.8s\n",
      "[CV] END ..................................C=1, gamma=0.0001; total time=   2.9s\n",
      "[CV] END ..................................C=1, gamma=0.0001; total time=   3.6s\n",
      "[CV] END ..................................C=1, gamma=0.0001; total time=   3.9s\n",
      "[CV] END ...................................C=1, gamma=1e-05; total time=   3.4s\n",
      "[CV] END ...................................C=1, gamma=1e-05; total time=   3.3s\n",
      "[CV] END ...................................C=1, gamma=1e-05; total time=   3.9s\n",
      "[CV] END ...................................C=1, gamma=1e-05; total time=   3.4s\n",
      "[CV] END ...................................C=1, gamma=1e-05; total time=   3.5s\n",
      "[CV] END ...................................C=1, gamma=1e-06; total time=   4.0s\n",
      "[CV] END ...................................C=1, gamma=1e-06; total time=   3.9s\n",
      "[CV] END ...................................C=1, gamma=1e-06; total time=   2.7s\n",
      "[CV] END ...................................C=1, gamma=1e-06; total time=   3.8s\n",
      "[CV] END ...................................C=1, gamma=1e-06; total time=   3.8s\n",
      "[CV] END ......................................C=10, gamma=1; total time=   1.5s\n",
      "[CV] END ......................................C=10, gamma=1; total time=   1.7s\n",
      "[CV] END ......................................C=10, gamma=1; total time=   2.4s\n",
      "[CV] END ......................................C=10, gamma=1; total time=   1.5s\n",
      "[CV] END ......................................C=10, gamma=1; total time=   2.5s\n",
      "[CV] END ....................................C=10, gamma=0.1; total time=   1.7s\n",
      "[CV] END ....................................C=10, gamma=0.1; total time=   1.6s\n",
      "[CV] END ....................................C=10, gamma=0.1; total time=   2.6s\n",
      "[CV] END ....................................C=10, gamma=0.1; total time=   1.6s\n",
      "[CV] END ....................................C=10, gamma=0.1; total time=   2.6s\n",
      "[CV] END ..................................C=10, gamma=0.001; total time=   2.4s\n",
      "[CV] END ..................................C=10, gamma=0.001; total time=   3.3s\n",
      "[CV] END ..................................C=10, gamma=0.001; total time=   2.3s\n",
      "[CV] END ..................................C=10, gamma=0.001; total time=   3.6s\n",
      "[CV] END ..................................C=10, gamma=0.001; total time=   3.1s\n",
      "[CV] END .................................C=10, gamma=0.0001; total time=   3.4s\n",
      "[CV] END .................................C=10, gamma=0.0001; total time=   3.8s\n",
      "[CV] END .................................C=10, gamma=0.0001; total time=   3.5s\n",
      "[CV] END .................................C=10, gamma=0.0001; total time=   2.9s\n",
      "[CV] END .................................C=10, gamma=0.0001; total time=   3.9s\n",
      "[CV] END ..................................C=10, gamma=1e-05; total time=   3.6s\n",
      "[CV] END ..................................C=10, gamma=1e-05; total time=   2.8s\n",
      "[CV] END ..................................C=10, gamma=1e-05; total time=   3.7s\n",
      "[CV] END ..................................C=10, gamma=1e-05; total time=   3.4s\n",
      "[CV] END ..................................C=10, gamma=1e-05; total time=   3.1s\n",
      "[CV] END ..................................C=10, gamma=1e-06; total time=   3.8s\n",
      "[CV] END ..................................C=10, gamma=1e-06; total time=   4.2s\n",
      "[CV] END ..................................C=10, gamma=1e-06; total time=   3.2s\n",
      "[CV] END ..................................C=10, gamma=1e-06; total time=   3.7s\n",
      "[CV] END ..................................C=10, gamma=1e-06; total time=   4.4s\n",
      "[CV] END ......................................C=50, gamma=1; total time=   2.8s\n",
      "[CV] END ......................................C=50, gamma=1; total time=   2.9s\n",
      "[CV] END ......................................C=50, gamma=1; total time=   3.7s\n",
      "[CV] END ......................................C=50, gamma=1; total time=   2.5s\n",
      "[CV] END ......................................C=50, gamma=1; total time=   3.3s\n",
      "[CV] END ....................................C=50, gamma=0.1; total time=   2.2s\n",
      "[CV] END ....................................C=50, gamma=0.1; total time=   3.5s\n",
      "[CV] END ....................................C=50, gamma=0.1; total time=   2.0s\n",
      "[CV] END ....................................C=50, gamma=0.1; total time=   3.2s\n",
      "[CV] END ....................................C=50, gamma=0.1; total time=   1.7s\n",
      "[CV] END ..................................C=50, gamma=0.001; total time=   3.6s\n"
     ]
    },
    {
     "name": "stdout",
     "output_type": "stream",
     "text": [
      "[CV] END ..................................C=50, gamma=0.001; total time=   1.9s\n",
      "[CV] END ..................................C=50, gamma=0.001; total time=   3.1s\n",
      "[CV] END ..................................C=50, gamma=0.001; total time=   1.9s\n",
      "[CV] END ..................................C=50, gamma=0.001; total time=   3.2s\n",
      "[CV] END .................................C=50, gamma=0.0001; total time=   2.9s\n",
      "[CV] END .................................C=50, gamma=0.0001; total time=   3.8s\n",
      "[CV] END .................................C=50, gamma=0.0001; total time=   2.8s\n",
      "[CV] END .................................C=50, gamma=0.0001; total time=   3.5s\n",
      "[CV] END .................................C=50, gamma=0.0001; total time=   4.1s\n",
      "[CV] END ..................................C=50, gamma=1e-05; total time=   3.5s\n",
      "[CV] END ..................................C=50, gamma=1e-05; total time=   3.5s\n",
      "[CV] END ..................................C=50, gamma=1e-05; total time=   4.0s\n",
      "[CV] END ..................................C=50, gamma=1e-05; total time=   4.1s\n",
      "[CV] END ..................................C=50, gamma=1e-05; total time=   2.9s\n",
      "[CV] END ..................................C=50, gamma=1e-06; total time=   3.9s\n",
      "[CV] END ..................................C=50, gamma=1e-06; total time=   3.9s\n",
      "[CV] END ..................................C=50, gamma=1e-06; total time=   2.9s\n",
      "[CV] END ..................................C=50, gamma=1e-06; total time=   3.8s\n",
      "[CV] END ..................................C=50, gamma=1e-06; total time=   3.8s\n",
      "[CV] END .....................................C=100, gamma=1; total time=   2.1s\n",
      "[CV] END .....................................C=100, gamma=1; total time=   3.0s\n",
      "[CV] END .....................................C=100, gamma=1; total time=   2.5s\n",
      "[CV] END .....................................C=100, gamma=1; total time=   2.8s\n",
      "[CV] END .....................................C=100, gamma=1; total time=   2.4s\n",
      "[CV] END ...................................C=100, gamma=0.1; total time=   2.3s\n",
      "[CV] END ...................................C=100, gamma=0.1; total time=   1.5s\n",
      "[CV] END ...................................C=100, gamma=0.1; total time=   2.7s\n",
      "[CV] END ...................................C=100, gamma=0.1; total time=   1.6s\n",
      "[CV] END ...................................C=100, gamma=0.1; total time=   1.8s\n",
      "[CV] END .................................C=100, gamma=0.001; total time=   2.7s\n",
      "[CV] END .................................C=100, gamma=0.001; total time=   1.7s\n",
      "[CV] END .................................C=100, gamma=0.001; total time=   2.9s\n",
      "[CV] END .................................C=100, gamma=0.001; total time=   1.7s\n",
      "[CV] END .................................C=100, gamma=0.001; total time=   2.8s\n",
      "[CV] END ................................C=100, gamma=0.0001; total time=   2.2s\n",
      "[CV] END ................................C=100, gamma=0.0001; total time=   3.3s\n",
      "[CV] END ................................C=100, gamma=0.0001; total time=   2.2s\n",
      "[CV] END ................................C=100, gamma=0.0001; total time=   3.3s\n",
      "[CV] END ................................C=100, gamma=0.0001; total time=   2.2s\n",
      "[CV] END .................................C=100, gamma=1e-05; total time=   3.2s\n",
      "[CV] END .................................C=100, gamma=1e-05; total time=   3.7s\n",
      "[CV] END .................................C=100, gamma=1e-05; total time=   2.8s\n",
      "[CV] END .................................C=100, gamma=1e-05; total time=   3.5s\n",
      "[CV] END .................................C=100, gamma=1e-05; total time=   3.8s\n",
      "[CV] END .................................C=100, gamma=1e-06; total time=   3.1s\n",
      "[CV] END .................................C=100, gamma=1e-06; total time=   3.5s\n",
      "[CV] END .................................C=100, gamma=1e-06; total time=   3.8s\n",
      "[CV] END .................................C=100, gamma=1e-06; total time=   3.0s\n",
      "[CV] END .................................C=100, gamma=1e-06; total time=   3.4s\n",
      "[CV] END ....................................C=1000, gamma=1; total time=   9.1s\n",
      "[CV] END ....................................C=1000, gamma=1; total time=   7.7s\n",
      "[CV] END ....................................C=1000, gamma=1; total time=  10.3s\n",
      "[CV] END ....................................C=1000, gamma=1; total time=   9.0s\n",
      "[CV] END ....................................C=1000, gamma=1; total time=   7.2s\n",
      "[CV] END ..................................C=1000, gamma=0.1; total time=   3.2s\n",
      "[CV] END ..................................C=1000, gamma=0.1; total time=   2.3s\n",
      "[CV] END ..................................C=1000, gamma=0.1; total time=   2.9s\n",
      "[CV] END ..................................C=1000, gamma=0.1; total time=   2.4s\n",
      "[CV] END ..................................C=1000, gamma=0.1; total time=   3.5s\n",
      "[CV] END ................................C=1000, gamma=0.001; total time=   1.8s\n",
      "[CV] END ................................C=1000, gamma=0.001; total time=   3.1s\n",
      "[CV] END ................................C=1000, gamma=0.001; total time=   2.1s\n",
      "[CV] END ................................C=1000, gamma=0.001; total time=   2.8s\n",
      "[CV] END ................................C=1000, gamma=0.001; total time=   1.7s\n",
      "[CV] END ...............................C=1000, gamma=0.0001; total time=   2.8s\n",
      "[CV] END ...............................C=1000, gamma=0.0001; total time=   1.9s\n",
      "[CV] END ...............................C=1000, gamma=0.0001; total time=   2.3s\n",
      "[CV] END ...............................C=1000, gamma=0.0001; total time=   2.5s\n",
      "[CV] END ...............................C=1000, gamma=0.0001; total time=   2.1s\n",
      "[CV] END ................................C=1000, gamma=1e-05; total time=   3.0s\n",
      "[CV] END ................................C=1000, gamma=1e-05; total time=   2.8s\n",
      "[CV] END ................................C=1000, gamma=1e-05; total time=   2.7s\n",
      "[CV] END ................................C=1000, gamma=1e-05; total time=   3.3s\n",
      "[CV] END ................................C=1000, gamma=1e-05; total time=   2.1s\n",
      "[CV] END ................................C=1000, gamma=1e-06; total time=   3.7s\n",
      "[CV] END ................................C=1000, gamma=1e-06; total time=   3.0s\n",
      "[CV] END ................................C=1000, gamma=1e-06; total time=   3.4s\n",
      "[CV] END ................................C=1000, gamma=1e-06; total time=   3.2s\n",
      "[CV] END ................................C=1000, gamma=1e-06; total time=   2.6s\n"
     ]
    }
   ],
   "source": [
    "from sklearn.model_selection import GridSearchCV\n",
    "\n",
    "param_grid = {\"C\":[0.1,1,10,50,100,1000], \"gamma\":[1,0.1,0.001,0.0001,0.00001,0.000001]}\n",
    "\n",
    "grid = GridSearchCV(SVC(), param_grid, refit=True, verbose=2)\n",
    "grid.fit(X_train, y_train)\n",
    "grid_predictions = grid.predict(X_val)"
   ]
  },
  {
   "cell_type": "code",
   "execution_count": 84,
   "id": "0e5b0f73",
   "metadata": {},
   "outputs": [
    {
     "name": "stdout",
     "output_type": "stream",
     "text": [
      "              precision    recall  f1-score   support\n",
      "\n",
      "           0       0.79      0.80      0.79       845\n",
      "           1       0.81      0.79      0.80       894\n",
      "\n",
      "    accuracy                           0.80      1739\n",
      "   macro avg       0.80      0.80      0.80      1739\n",
      "weighted avg       0.80      0.80      0.80      1739\n",
      "\n",
      "[[678 167]\n",
      " [184 710]]\n"
     ]
    }
   ],
   "source": [
    "print(classification_report(y_val, grid_predictions))\n",
    "print(confusion_matrix(y_val, grid_predictions))"
   ]
  },
  {
   "cell_type": "markdown",
   "id": "8b676da8",
   "metadata": {},
   "source": [
    "### Decision Tree"
   ]
  },
  {
   "cell_type": "code",
   "execution_count": 83,
   "id": "197e7f16",
   "metadata": {},
   "outputs": [
    {
     "name": "stdout",
     "output_type": "stream",
     "text": [
      "              precision    recall  f1-score   support\n",
      "\n",
      "           0       0.73      0.72      0.73       845\n",
      "           1       0.74      0.75      0.75       894\n",
      "\n",
      "    accuracy                           0.74      1739\n",
      "   macro avg       0.74      0.74      0.74      1739\n",
      "weighted avg       0.74      0.74      0.74      1739\n",
      "\n",
      "[[609 236]\n",
      " [222 672]]\n"
     ]
    }
   ],
   "source": [
    "from sklearn.tree import DecisionTreeClassifier\n",
    "\n",
    "dt = DecisionTreeClassifier()\n",
    "\n",
    "dt.fit(X_train, y_train)\n",
    "\n",
    "dt_predictions = dt.predict(X_val)\n",
    "\n",
    "print(classification_report(y_val, dt_predictions))\n",
    "print(confusion_matrix(y_val, dt_predictions))"
   ]
  },
  {
   "cell_type": "markdown",
   "id": "348a4b50",
   "metadata": {},
   "source": [
    "### Random Forest"
   ]
  },
  {
   "cell_type": "code",
   "execution_count": 89,
   "id": "1201bfaa",
   "metadata": {},
   "outputs": [
    {
     "name": "stdout",
     "output_type": "stream",
     "text": [
      "              precision    recall  f1-score   support\n",
      "\n",
      "           0       0.78      0.81      0.80       845\n",
      "           1       0.82      0.79      0.80       894\n",
      "\n",
      "    accuracy                           0.80      1739\n",
      "   macro avg       0.80      0.80      0.80      1739\n",
      "weighted avg       0.80      0.80      0.80      1739\n",
      "\n",
      "[[688 157]\n",
      " [189 705]]\n"
     ]
    }
   ],
   "source": [
    "from sklearn.ensemble import RandomForestClassifier\n",
    "\n",
    "rf = RandomForestClassifier(n_estimators=500)\n",
    "\n",
    "rf.fit(X_train, y_train)\n",
    "\n",
    "rf_predictions = rf.predict(X_val)\n",
    "\n",
    "print(classification_report(y_val, rf_predictions))\n",
    "print(confusion_matrix(y_val, rf_predictions))"
   ]
  },
  {
   "cell_type": "code",
   "execution_count": null,
   "id": "ad79b4bc",
   "metadata": {},
   "outputs": [],
   "source": []
  }
 ],
 "metadata": {
  "kernelspec": {
   "display_name": "Python 3 (ipykernel)",
   "language": "python",
   "name": "python3"
  },
  "language_info": {
   "codemirror_mode": {
    "name": "ipython",
    "version": 3
   },
   "file_extension": ".py",
   "mimetype": "text/x-python",
   "name": "python",
   "nbconvert_exporter": "python",
   "pygments_lexer": "ipython3",
   "version": "3.10.2"
  }
 },
 "nbformat": 4,
 "nbformat_minor": 5
}
